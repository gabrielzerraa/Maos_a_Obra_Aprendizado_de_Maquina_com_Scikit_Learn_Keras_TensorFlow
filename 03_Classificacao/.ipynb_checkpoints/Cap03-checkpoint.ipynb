{
 "cells": [
  {
   "cell_type": "markdown",
   "id": "d90c7c8e-2db4-4143-b3af-f883d68e3f62",
   "metadata": {},
   "source": [
    "# Importar Bibliotecas"
   ]
  },
  {
   "cell_type": "code",
   "execution_count": 55,
   "id": "66f95252-a2c4-4284-b40f-99e7ab990e90",
   "metadata": {},
   "outputs": [],
   "source": [
    "import pandas as pd\n",
    "import numpy as np\n",
    "import matplotlib as mpl\n",
    "import matplotlib.pyplot as plt\n",
    "import seaborn as sns\n",
    "\n",
    "from sklearn.datasets import fetch_openml\n",
    "from sklearn.linear_model import SGDClassifier\n",
    "from sklearn.model_selection import cross_val_score, cross_val_predict\n",
    "from sklearn.base import BaseEstimator\n",
    "from sklearn.metrics import confusion_matrix, precision_score, recall_score, accuracy_score, f1_score"
   ]
  },
  {
   "cell_type": "markdown",
   "id": "09d7ade3-624d-4412-a281-82b3a94317f3",
   "metadata": {},
   "source": [
    "# Importar dados"
   ]
  },
  {
   "cell_type": "code",
   "execution_count": 2,
   "id": "7db26bfa-fbef-40bb-87c5-29b3fbcd64db",
   "metadata": {},
   "outputs": [
    {
     "data": {
      "text/plain": [
       "dict_keys(['data', 'target', 'frame', 'categories', 'feature_names', 'target_names', 'DESCR', 'details', 'url'])"
      ]
     },
     "execution_count": 2,
     "metadata": {},
     "output_type": "execute_result"
    }
   ],
   "source": [
    "mnist = fetch_openml('mnist_784', version=1, parser='liac-arff')\n",
    "mnist.keys()"
   ]
  },
  {
   "cell_type": "code",
   "execution_count": 3,
   "id": "4151ab61-9ee7-40f9-9b7b-b7e54b012eaa",
   "metadata": {},
   "outputs": [],
   "source": [
    "X, y = mnist['data'], mnist['target']"
   ]
  },
  {
   "cell_type": "code",
   "execution_count": 4,
   "id": "9d7e6fb6-b63f-44c3-bab0-aafe60fe78b6",
   "metadata": {},
   "outputs": [
    {
     "data": {
      "text/plain": [
       "(70000, 784)"
      ]
     },
     "execution_count": 4,
     "metadata": {},
     "output_type": "execute_result"
    }
   ],
   "source": [
    "X.shape"
   ]
  },
  {
   "cell_type": "code",
   "execution_count": 5,
   "id": "176d4db5-87a0-42e8-b31a-41a52e9f0bc8",
   "metadata": {},
   "outputs": [
    {
     "data": {
      "text/plain": [
       "(70000,)"
      ]
     },
     "execution_count": 5,
     "metadata": {},
     "output_type": "execute_result"
    }
   ],
   "source": [
    "y.shape"
   ]
  },
  {
   "cell_type": "code",
   "execution_count": 6,
   "id": "5a002f96-bdcc-4bc5-b029-297868a01761",
   "metadata": {},
   "outputs": [],
   "source": [
    "some_digit = X.loc[[1]].to_numpy()\n",
    "some_digit_image = some_digit.reshape(28, 28)"
   ]
  },
  {
   "cell_type": "code",
   "execution_count": 7,
   "id": "09ed317a-981f-49c0-bc6d-78ca3ea32a89",
   "metadata": {},
   "outputs": [
    {
     "data": {
      "image/png": "[encoded data removed]",
      "text/plain": [
       "<Figure size 640x480 with 1 Axes>"
      ]
     },
     "metadata": {},
     "output_type": "display_data"
    }
   ],
   "source": [
    "plt.imshow(some_digit_image, cmap = mpl.cm.binary, interpolation=\"nearest\")\n",
    "plt.axis(\"off\")\n",
    "plt.show()"
   ]
  },
  {
   "cell_type": "code",
   "execution_count": 8,
   "id": "4838476a-0c94-4144-9825-ff7f2aa1fa22",
   "metadata": {},
   "outputs": [
    {
     "data": {
      "text/plain": [
       "1    0\n",
       "Name: class, dtype: category\n",
       "Categories (10, object): ['0', '1', '2', '3', ..., '6', '7', '8', '9']"
      ]
     },
     "execution_count": 8,
     "metadata": {},
     "output_type": "execute_result"
    }
   ],
   "source": [
    "y[[1]]"
   ]
  },
  {
   "cell_type": "code",
   "execution_count": 9,
   "id": "6272e982-5e63-488c-a4bc-540683b9584a",
   "metadata": {},
   "outputs": [],
   "source": [
    "X_train, X_teste, y_train, y_test = X[:60000], X[60000:], y[:60000], y[60000:]"
   ]
  },
  {
   "cell_type": "code",
   "execution_count": 10,
   "id": "5d7c575a-6683-43dd-87c9-cb73ce825dd1",
   "metadata": {},
   "outputs": [
    {
     "data": {
      "text/plain": [
       "class\n",
       "1    7877\n",
       "7    7293\n",
       "3    7141\n",
       "2    6990\n",
       "9    6958\n",
       "0    6903\n",
       "6    6876\n",
       "8    6825\n",
       "4    6824\n",
       "5    6313\n",
       "Name: count, dtype: int64"
      ]
     },
     "execution_count": 10,
     "metadata": {},
     "output_type": "execute_result"
    }
   ],
   "source": [
    "y.value_counts()"
   ]
  },
  {
   "cell_type": "code",
   "execution_count": 11,
   "id": "51a2ee6d-1e3d-482c-9c70-d04f75807f33",
   "metadata": {},
   "outputs": [
    {
     "data": {
      "text/plain": [
       "class\n",
       "0    0\n",
       "1    0\n",
       "2    0\n",
       "3    0\n",
       "4    0\n",
       "5    0\n",
       "6    0\n",
       "7    0\n",
       "8    0\n",
       "9    0\n",
       "Name: count, dtype: int64"
      ]
     },
     "execution_count": 11,
     "metadata": {},
     "output_type": "execute_result"
    }
   ],
   "source": [
    "y_train[y_train == 5].value_counts()"
   ]
  },
  {
   "cell_type": "markdown",
   "id": "bc18aa74-b720-49b3-83c0-f16a45bf7027",
   "metadata": {},
   "source": [
    "# Treinando um Classificador Binários"
   ]
  },
  {
   "cell_type": "code",
   "execution_count": 12,
   "id": "b31df6d4-7520-4e1f-b0d7-50b7c169e451",
   "metadata": {},
   "outputs": [],
   "source": [
    "y_train = y_train.astype(int)"
   ]
  },
  {
   "cell_type": "code",
   "execution_count": 13,
   "id": "fc9fa821-55d8-4205-a71b-4e94641263e5",
   "metadata": {},
   "outputs": [],
   "source": [
    "y_train_5 = (y_train == 5)\n",
    "y_test_5 = (y_test == 5)"
   ]
  },
  {
   "cell_type": "code",
   "execution_count": 14,
   "id": "8047074f-b6e7-416a-8d88-d5922235e6ed",
   "metadata": {},
   "outputs": [
    {
     "data": {
      "text/plain": [
       "((10000,), (60000,))"
      ]
     },
     "execution_count": 14,
     "metadata": {},
     "output_type": "execute_result"
    }
   ],
   "source": [
    "y_test_5.shape, y_train_5.shape"
   ]
  },
  {
   "cell_type": "code",
   "execution_count": 15,
   "id": "a6789341-9c2b-4726-94b4-b03be76ba019",
   "metadata": {},
   "outputs": [
    {
     "data": {
      "text/plain": [
       "class\n",
       "False    54579\n",
       "True      5421\n",
       "Name: count, dtype: int64"
      ]
     },
     "execution_count": 15,
     "metadata": {},
     "output_type": "execute_result"
    }
   ],
   "source": [
    "y_train_5.value_counts()"
   ]
  },
  {
   "cell_type": "code",
   "execution_count": 16,
   "id": "76bd59d1-363d-4e93-a71c-787d5d898fd0",
   "metadata": {},
   "outputs": [
    {
     "data": {
      "text/html": [
       "<style>#sk-container-id-1 {color: black;background-color: white;}#sk-container-id-1 pre{padding: 0;}#sk-container-id-1 div.sk-toggleable {background-color: white;}#sk-container-id-1 label.sk-toggleable__label {cursor: pointer;display: block;width: 100%;margin-bottom: 0;padding: 0.3em;box-sizing: border-box;text-align: center;}#sk-container-id-1 label.sk-toggleable__label-arrow:before {content: \"▸\";float: left;margin-right: 0.25em;color: #696969;}#sk-container-id-1 label.sk-toggleable__label-arrow:hover:before {color: black;}#sk-container-id-1 div.sk-estimator:hover label.sk-toggleable__label-arrow:before {color: black;}#sk-container-id-1 div.sk-toggleable__content {max-height: 0;max-width: 0;overflow: hidden;text-align: left;background-color: #f0f8ff;}#sk-container-id-1 div.sk-toggleable__content pre {margin: 0.2em;color: black;border-radius: 0.25em;background-color: #f0f8ff;}#sk-container-id-1 input.sk-toggleable__control:checked~div.sk-toggleable__content {max-height: 200px;max-width: 100%;overflow: auto;}#sk-container-id-1 input.sk-toggleable__control:checked~label.sk-toggleable__label-arrow:before {content: \"▾\";}#sk-container-id-1 div.sk-estimator input.sk-toggleable__control:checked~label.sk-toggleable__label {background-color: #d4ebff;}#sk-container-id-1 div.sk-label input.sk-toggleable__control:checked~label.sk-toggleable__label {background-color: #d4ebff;}#sk-container-id-1 input.sk-hidden--visually {border: 0;clip: rect(1px 1px 1px 1px);clip: rect(1px, 1px, 1px, 1px);height: 1px;margin: -1px;overflow: hidden;padding: 0;position: absolute;width: 1px;}#sk-container-id-1 div.sk-estimator {font-family: monospace;background-color: #f0f8ff;border: 1px dotted black;border-radius: 0.25em;box-sizing: border-box;margin-bottom: 0.5em;}#sk-container-id-1 div.sk-estimator:hover {background-color: #d4ebff;}#sk-container-id-1 div.sk-parallel-item::after {content: \"\";width: 100%;border-bottom: 1px solid gray;flex-grow: 1;}#sk-container-id-1 div.sk-label:hover label.sk-toggleable__label {background-color: #d4ebff;}#sk-container-id-1 div.sk-serial::before {content: \"\";position: absolute;border-left: 1px solid gray;box-sizing: border-box;top: 0;bottom: 0;left: 50%;z-index: 0;}#sk-container-id-1 div.sk-serial {display: flex;flex-direction: column;align-items: center;background-color: white;padding-right: 0.2em;padding-left: 0.2em;position: relative;}#sk-container-id-1 div.sk-item {position: relative;z-index: 1;}#sk-container-id-1 div.sk-parallel {display: flex;align-items: stretch;justify-content: center;background-color: white;position: relative;}#sk-container-id-1 div.sk-item::before, #sk-container-id-1 div.sk-parallel-item::before {content: \"\";position: absolute;border-left: 1px solid gray;box-sizing: border-box;top: 0;bottom: 0;left: 50%;z-index: -1;}#sk-container-id-1 div.sk-parallel-item {display: flex;flex-direction: column;z-index: 1;position: relative;background-color: white;}#sk-container-id-1 div.sk-parallel-item:first-child::after {align-self: flex-end;width: 50%;}#sk-container-id-1 div.sk-parallel-item:last-child::after {align-self: flex-start;width: 50%;}#sk-container-id-1 div.sk-parallel-item:only-child::after {width: 0;}#sk-container-id-1 div.sk-dashed-wrapped {border: 1px dashed gray;margin: 0 0.4em 0.5em 0.4em;box-sizing: border-box;padding-bottom: 0.4em;background-color: white;}#sk-container-id-1 div.sk-label label {font-family: monospace;font-weight: bold;display: inline-block;line-height: 1.2em;}#sk-container-id-1 div.sk-label-container {text-align: center;}#sk-container-id-1 div.sk-container {/* jupyter's `normalize.less` sets `[hidden] { display: none; }` but bootstrap.min.css set `[hidden] { display: none !important; }` so we also need the `!important` here to be able to override the default hidden behavior on the sphinx rendered scikit-learn.org. See: https://github.com/scikit-learn/scikit-learn/issues/21755 */display: inline-block !important;position: relative;}#sk-container-id-1 div.sk-text-repr-fallback {display: none;}</style><div id=\"sk-container-id-1\" class=\"sk-top-container\"><div class=\"sk-text-repr-fallback\"><pre>SGDClassifier(random_state=42)</pre><b>In a Jupyter environment, please rerun this cell to show the HTML representation or trust the notebook. <br />On GitHub, the HTML representation is unable to render, please try loading this page with nbviewer.org.</b></div><div class=\"sk-container\" hidden><div class=\"sk-item\"><div class=\"sk-estimator sk-toggleable\"><input class=\"sk-toggleable__control sk-hidden--visually\" id=\"sk-estimator-id-1\" type=\"checkbox\" checked><label for=\"sk-estimator-id-1\" class=\"sk-toggleable__label sk-toggleable__label-arrow\">SGDClassifier</label><div class=\"sk-toggleable__content\"><pre>SGDClassifier(random_state=42)</pre></div></div></div></div></div>"
      ],
      "text/plain": [
       "SGDClassifier(random_state=42)"
      ]
     },
     "execution_count": 16,
     "metadata": {},
     "output_type": "execute_result"
    }
   ],
   "source": [
    "sgd_clf = SGDClassifier(random_state=42)\n",
    "sgd_clf.fit(X_train, y_train_5)"
   ]
  },
  {
   "cell_type": "code",
   "execution_count": 17,
   "id": "1c333cdc-089f-4e7a-832a-3679e1ed042a",
   "metadata": {},
   "outputs": [
    {
     "data": {
      "text/plain": [
       "array([False])"
      ]
     },
     "execution_count": 17,
     "metadata": {},
     "output_type": "execute_result"
    }
   ],
   "source": [
    " sgd_clf.predict(X.loc[[1]])"
   ]
  },
  {
   "cell_type": "markdown",
   "id": "d8f87456-3839-4419-9bca-aabee7f088da",
   "metadata": {},
   "source": [
    "# Calculo de Desempenho"
   ]
  },
  {
   "cell_type": "markdown",
   "id": "86d7b76e-48df-4457-9b34-721d472add26",
   "metadata": {},
   "source": [
    "## Validação Cruzada"
   ]
  },
  {
   "cell_type": "code",
   "execution_count": 18,
   "id": "7fb1a73b-2884-4ef8-912e-94371b3ed6a1",
   "metadata": {},
   "outputs": [
    {
     "data": {
      "text/plain": [
       "array([0.87365, 0.85835, 0.8689 ])"
      ]
     },
     "execution_count": 18,
     "metadata": {},
     "output_type": "execute_result"
    }
   ],
   "source": [
    "cross_val_score(sgd_clf, X_train, y_train-5, cv=3, scoring='accuracy')"
   ]
  },
  {
   "cell_type": "code",
   "execution_count": 19,
   "id": "9ce79c86-2813-4909-b12e-a10f865d049a",
   "metadata": {},
   "outputs": [],
   "source": [
    "class NeverClassifier(BaseEstimator):\n",
    "    def fit(self, X, y=None):\n",
    "        pass\n",
    "    def predict(self, X):\n",
    "        return np.zeros((len(X), 1), dtype=bool)"
   ]
  },
  {
   "cell_type": "code",
   "execution_count": 20,
   "id": "3d8d2c6c-476a-4de1-af2d-2117d35608e6",
   "metadata": {},
   "outputs": [
    {
     "data": {
      "text/plain": [
       "array([0.91125, 0.90855, 0.90915])"
      ]
     },
     "execution_count": 20,
     "metadata": {},
     "output_type": "execute_result"
    }
   ],
   "source": [
    "never_5_clf = NeverClassifier()\n",
    "cross_val_score(never_5_clf, X_train, y_train_5, cv=3, scoring='accuracy')"
   ]
  },
  {
   "cell_type": "code",
   "execution_count": null,
   "id": "fc3a42f3-37dd-4073-ae8c-c9264bbf7382",
   "metadata": {},
   "outputs": [],
   "source": []
  },
  {
   "cell_type": "markdown",
   "id": "e937082f-537c-4237-9333-083de8e5584d",
   "metadata": {},
   "source": [
    "## Matriz de Confusão "
   ]
  },
  {
   "cell_type": "code",
   "execution_count": 36,
   "id": "d308ee6e-96f6-4392-b1b2-056561732f6e",
   "metadata": {},
   "outputs": [],
   "source": [
    "y_train_pred = cross_val_predict(sgd_clf, X_train, y_train_5, cv=3)"
   ]
  },
  {
   "cell_type": "code",
   "execution_count": 37,
   "id": "32cc0b0d-d93c-4683-89c1-df96744397ba",
   "metadata": {},
   "outputs": [
    {
     "data": {
      "text/plain": [
       "array([ True, False, False, ...,  True, False, False])"
      ]
     },
     "execution_count": 37,
     "metadata": {},
     "output_type": "execute_result"
    }
   ],
   "source": [
    "y_train_pred"
   ]
  },
  {
   "cell_type": "code",
   "execution_count": 38,
   "id": "1f10fbef-50cb-4f1b-a175-53dab7b89145",
   "metadata": {},
   "outputs": [
    {
     "data": {
      "text/plain": [
       "array([[53892,   687],\n",
       "       [ 1891,  3530]], dtype=int64)"
      ]
     },
     "execution_count": 38,
     "metadata": {},
     "output_type": "execute_result"
    }
   ],
   "source": [
    "matrix_confusao = confusion_matrix(y_train_5, y_train_pred)\n",
    "matrix_confusao"
   ]
  },
  {
   "cell_type": "code",
   "execution_count": 52,
   "id": "ee35ac00-e038-4458-a51c-1fae1f8723fc",
   "metadata": {},
   "outputs": [
    {
     "data": {
      "image/png": "[encoded data removed]",
      "text/plain": [
       "<Figure size 640x480 with 1 Axes>"
      ]
     },
     "metadata": {},
     "output_type": "display_data"
    }
   ],
   "source": [
    "sns.heatmap(matrix_confusao, annot=True, fmt='d', cbar=False, cmap='Reds',\n",
    "            xticklabels=['Negativo', 'Positivo'],\n",
    "            yticklabels=['Negativo', 'Positivo'])\n",
    "\n",
    "plt.title('Matriz de Confusão')\n",
    "\n",
    "plt.xlabel('Predict Label')\n",
    "plt.ylabel('True Label')\n",
    "\n",
    "plt.show()"
   ]
  },
  {
   "cell_type": "code",
   "execution_count": 53,
   "id": "f701c4a8-656d-4f17-96b8-c8cb0dbfa760",
   "metadata": {},
   "outputs": [
    {
     "name": "stdout",
     "output_type": "stream",
     "text": [
      "True Positives(TP) =  3530\n",
      "True Negatives(TN) =  53892\n",
      "False Positives(FP) =  687\n",
      "False Negatives(FN) =  1891\n"
     ]
    }
   ],
   "source": [
    "# Exibe o número de True Positives (TP), que são os casos em que o modelo previu corretamente a classe positiva.\n",
    "print('True Positives(TP) = ', matrix_confusao[1,1])\n",
    "\n",
    "# Exibe o número de True Negatives (TN), que são os casos em que o modelo previu corretamente a classe negativa.\n",
    "print('True Negatives(TN) = ', matrix_confusao[0,0])\n",
    "\n",
    "# Exibe o número de False Positives (FP), que são os casos em que o modelo previu incorretamente a classe positiva.\n",
    "print('False Positives(FP) = ', matrix_confusao[0,1])\n",
    "\n",
    "# Exibe o número de False Negatives (FN), que são os casos em que o modelo previu incorretamente a classe negativa.\n",
    "print('False Negatives(FN) = ', matrix_confusao[1,0])"
   ]
  },
  {
   "cell_type": "markdown",
   "id": "abf38897-ede5-4414-8e63-2c98a0e6d40a",
   "metadata": {},
   "source": [
    "## Precisão e Revocação"
   ]
  },
  {
   "cell_type": "code",
   "execution_count": 59,
   "id": "5e0eb0ce-2601-4702-860d-07236a9e9eea",
   "metadata": {},
   "outputs": [
    {
     "name": "stdout",
     "output_type": "stream",
     "text": [
      "Acurácia: 0.9570333333333333\n",
      "Precisão: 0.8370879772350012\n",
      "Recall (Sensibilidade): 0.6511713705958311\n",
      "F1-Score: 0.7325171197343846\n"
     ]
    }
   ],
   "source": [
    "# Acurácia: Proporção de previsões corretas em relação ao total de previsões\n",
    "print(f'Acurácia: {accuracy_score(y_train_5, y_train_pred)}')\n",
    "\n",
    "# Precisão: Proporção de verdadeiros positivos em relação à soma de verdadeiros positivos e falsos positivos\n",
    "print(f'Precisão: {precision_score(y_train_5, y_train_pred)}')\n",
    "\n",
    "# Recall (Sensibilidade): Proporção de verdadeiros positivos em relação à soma de verdadeiros positivos e falsos negativos\n",
    "print(f'Recall (Sensibilidade): {recall_score(y_train_5, y_train_pred)}')\n",
    "\n",
    "# F1-Score: Média harmônica entre precisão e recall\n",
    "print(f'F1-Score: {f1_score(y_train_5, y_train_pred)}')"
   ]
  },
  {
   "cell_type": "markdown",
   "id": "4e9d3358-5cce-4ec2-9fd0-92dbf244f02d",
   "metadata": {},
   "source": [
    "## Trade Off Precisão/Revocação"
   ]
  },
  {
   "cell_type": "code",
   "execution_count": null,
   "id": "9fd68190-7e5f-4abd-87e0-97f52cc9822f",
   "metadata": {},
   "outputs": [],
   "source": []
  },
  {
   "cell_type": "code",
   "execution_count": null,
   "id": "b99f65a3-29d5-42e0-ad21-c48a18a50d42",
   "metadata": {},
   "outputs": [],
   "source": []
  },
  {
   "cell_type": "code",
   "execution_count": null,
   "id": "932ce00a-eef3-4922-8dca-787606dbf39b",
   "metadata": {},
   "outputs": [],
   "source": []
  },
  {
   "cell_type": "markdown",
   "id": "2a594fb7-b936-49d9-b9da-328ace277734",
   "metadata": {},
   "source": [
    "## Curva ROC"
   ]
  },
  {
   "cell_type": "code",
   "execution_count": null,
   "id": "673f93d0-dc51-485c-a61f-3adb0a4f04c7",
   "metadata": {},
   "outputs": [],
   "source": []
  },
  {
   "cell_type": "code",
   "execution_count": null,
   "id": "3a25df83-9caf-4736-b0e2-37398428fa63",
   "metadata": {},
   "outputs": [],
   "source": []
  },
  {
   "cell_type": "code",
   "execution_count": null,
   "id": "975b7268-1be7-437a-8e33-4cbeca7ebfe5",
   "metadata": {},
   "outputs": [],
   "source": []
  },
  {
   "cell_type": "code",
   "execution_count": null,
   "id": "dabdef0a-cc6e-4159-bfbe-3638c6bd72e0",
   "metadata": {},
   "outputs": [],
   "source": []
  },
  {
   "cell_type": "code",
   "execution_count": null,
   "id": "4dd3b372-c963-40de-a5c0-297e28daba4d",
   "metadata": {},
   "outputs": [],
   "source": []
  },
  {
   "cell_type": "code",
   "execution_count": null,
   "id": "93079ccb-9648-4588-af1f-1eecb53e7289",
   "metadata": {},
   "outputs": [],
   "source": []
  },
  {
   "cell_type": "code",
   "execution_count": null,
   "id": "a7e04283-0c00-4073-a2f1-277241c1b689",
   "metadata": {},
   "outputs": [],
   "source": []
  },
  {
   "cell_type": "code",
   "execution_count": null,
   "id": "d2126aa4-d60b-4e1d-a88e-094ada2c435b",
   "metadata": {},
   "outputs": [],
   "source": []
  }
 ],
 "metadata": {
  "kernelspec": {
   "display_name": "Python 3 (ipykernel)",
   "language": "python",
   "name": "python3"
  },
  "language_info": {
   "codemirror_mode": {
    "name": "ipython",
    "version": 3
   },
   "file_extension": ".py",
   "mimetype": "text/x-python",
   "name": "python",
   "nbconvert_exporter": "python",
   "pygments_lexer": "ipython3",
   "version": "3.11.7"
  }
 },
 "nbformat": 4,
 "nbformat_minor": 5
}
